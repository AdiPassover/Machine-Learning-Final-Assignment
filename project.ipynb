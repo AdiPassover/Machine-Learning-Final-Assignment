{
 "cells": [
  {
   "cell_type": "code",
   "id": "initial_id",
   "metadata": {
    "collapsed": true,
    "ExecuteTime": {
     "end_time": "2025-08-13T09:02:33.376834Z",
     "start_time": "2025-08-13T09:02:33.371900Z"
    }
   },
   "source": [
    "from dataset import FSDDLoader, DataMode\n",
    "import joblib"
   ],
   "outputs": [],
   "execution_count": 12
  },
  {
   "metadata": {
    "ExecuteTime": {
     "end_time": "2025-08-13T09:00:41.592922Z",
     "start_time": "2025-08-13T08:59:12.355946Z"
    }
   },
   "cell_type": "code",
   "source": "loader = FSDDLoader(max_duration=0.9)",
   "id": "b4a6c84a8b988001",
   "outputs": [
    {
     "name": "stderr",
     "output_type": "stream",
     "text": [
      "C:\\Users\\adipe\\PycharmProjects\\Machine-Learning-Final\\.venv\\Lib\\site-packages\\librosa\\feature\\spectral.py:2148: UserWarning: Empty filters detected in mel frequency basis. Some channels will produce empty responses. Try increasing your sampling rate (and fmax) or reducing n_mels.\n",
      "  mel_basis = filters.mel(sr=sr, n_fft=n_fft, **kwargs)\n"
     ]
    }
   ],
   "execution_count": 2
  },
  {
   "metadata": {
    "ExecuteTime": {
     "end_time": "2025-08-13T09:02:35.081812Z",
     "start_time": "2025-08-13T09:02:34.471445Z"
    }
   },
   "cell_type": "code",
   "source": [
    "aggregate_data = loader.load(mode=DataMode.AGGREGATE)\n",
    "flatten_data = loader.load(mode=DataMode.FLATTEN)\n",
    "sequence_data = loader.load(mode=DataMode.SEQUENCE)\n",
    "\n",
    "joblib.dump(aggregate_data, \"dataset/aggregate_data.pkl\")\n",
    "joblib.dump(flatten_data, \"dataset/flatten_data.pkl\")\n",
    "joblib.dump(sequence_data, \"dataset/sequence_data.pkl\")"
   ],
   "id": "b82192bdcfcd87f1",
   "outputs": [
    {
     "data": {
      "text/plain": [
       "['dataset/sequence_data.pkl']"
      ]
     },
     "execution_count": 13,
     "metadata": {},
     "output_type": "execute_result"
    }
   ],
   "execution_count": 13
  },
  {
   "metadata": {},
   "cell_type": "code",
   "outputs": [],
   "execution_count": null,
   "source": "",
   "id": "2050c9eb5eccbf14"
  }
 ],
 "metadata": {
  "kernelspec": {
   "display_name": "Python 3",
   "language": "python",
   "name": "python3"
  },
  "language_info": {
   "codemirror_mode": {
    "name": "ipython",
    "version": 2
   },
   "file_extension": ".py",
   "mimetype": "text/x-python",
   "name": "python",
   "nbconvert_exporter": "python",
   "pygments_lexer": "ipython2",
   "version": "2.7.6"
  }
 },
 "nbformat": 4,
 "nbformat_minor": 5
}
